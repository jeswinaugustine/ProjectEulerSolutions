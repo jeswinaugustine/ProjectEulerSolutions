{
 "cells": [
  {
   "cell_type": "markdown",
   "metadata": {},
   "source": [
    "## Problem \n"
   ]
  },
  {
   "cell_type": "markdown",
   "metadata": {},
   "source": [
    "The prime factors of are and\n",
    "\n",
    ".\n",
    "\n",
    "What is the largest prime factor of a given number\n",
    "\n",
    "?\n",
    "\n",
    "Input Format\n",
    "\n",
    "First line contains\n",
    ", the number of test cases. This is followed by lines each containing an integer\n",
    "\n",
    ".\n",
    "\n",
    "Constraints\n",
    "\n",
    "Output Format\n",
    "\n",
    "For each test case, display the largest prime factor of\n",
    "\n",
    ".\n",
    "\n",
    "Sample Input 0\n",
    "\n",
    "2\n",
    "10\n",
    "17\n",
    "\n",
    "Sample Output 0\n",
    "\n",
    "5\n",
    "17\n",
    "\n",
    "Explanation 0\n",
    "\n",
    "    Prime factors of \n",
    "\n",
    "are , largest is\n",
    ".\n",
    "Prime factor of\n",
    "is itself, hence largest is . "
   ]
  },
  {
   "cell_type": "markdown",
   "metadata": {},
   "source": [
    "\n",
    "\n",
    "The prime factors of 13195 are 5, 7, 13 and 29.\n",
    "\n",
    "What is the largest prime factor of the number N ?\n"
   ]
  },
  {
   "cell_type": "markdown",
   "metadata": {},
   "source": [
    "Sample Input 0\n",
    "\n",
    "2\n",
    "10\n",
    "17\n",
    "\n"
   ]
  },
  {
   "cell_type": "code",
   "execution_count": 25,
   "metadata": {},
   "outputs": [],
   "source": [
    "import sys\n",
    "import math"
   ]
  },
  {
   "cell_type": "code",
   "execution_count": 47,
   "metadata": {},
   "outputs": [],
   "source": [
    "def isprime(n):\n",
    "    if not(n & 1):\n",
    "        return False\n",
    "    \n",
    "    for i in range(3,int(math.sqrt(n))+1,2):\n",
    "        if not (n % i):\n",
    "            return False\n",
    "    \n",
    "    return True"
   ]
  },
  {
   "cell_type": "code",
   "execution_count": 48,
   "metadata": {},
   "outputs": [
    {
     "data": {
      "text/plain": [
       "False"
      ]
     },
     "execution_count": 48,
     "metadata": {},
     "output_type": "execute_result"
    }
   ],
   "source": [
    "isprime(9)"
   ]
  },
  {
   "cell_type": "code",
   "execution_count": 41,
   "metadata": {},
   "outputs": [
    {
     "data": {
      "text/plain": [
       "3.1622776601683795"
      ]
     },
     "execution_count": 41,
     "metadata": {},
     "output_type": "execute_result"
    }
   ],
   "source": [
    "math.sqrt(10)"
   ]
  },
  {
   "cell_type": "code",
   "execution_count": 52,
   "metadata": {},
   "outputs": [
    {
     "name": "stdout",
     "output_type": "stream",
     "text": [
      "2\n",
      "10\n",
      "5\n",
      "17\n",
      "17\n"
     ]
    }
   ],
   "source": [
    "t = int(input().strip())\n",
    "for a0 in range(t):\n",
    "    n = int(input().strip())\n",
    "    l_p_f = 0\n",
    "    if not(n & 1):\n",
    "        l_p_f = 2\n",
    "    \n",
    "    for i in range(3,n//2 +1,2):\n",
    "        if not(n % i) and (isprime(i)):\n",
    "            l_p_f = i\n",
    "            \n",
    "    if (isprime(n)):\n",
    "        print(n)\n",
    "    else:    \n",
    "        print(l_p_f)"
   ]
  },
  {
   "cell_type": "markdown",
   "metadata": {},
   "source": [
    "## Method 2\n"
   ]
  },
  {
   "cell_type": "code",
   "execution_count": 58,
   "metadata": {},
   "outputs": [
    {
     "name": "stdout",
     "output_type": "stream",
     "text": [
      "1\n",
      "600851475143 \n",
      "6857\n"
     ]
    }
   ],
   "source": [
    "T = int(input())\n",
    "for z in range(T):\n",
    "    N = int(input())\n",
    "    i = 2\n",
    "    largest_prime = 2\n",
    "    while i*i <= N:\n",
    "        while N % i == 0:\n",
    "            largest_prime = i\n",
    "            N //= i    \n",
    "        i += 1\n",
    "    if N>largest_prime:\n",
    "        largest_prime = N;\n",
    "    print(largest_prime)"
   ]
  },
  {
   "cell_type": "code",
   "execution_count": 57,
   "metadata": {},
   "outputs": [
    {
     "name": "stdout",
     "output_type": "stream",
     "text": [
      "1\n",
      "600851475143 \n"
     ]
    },
    {
     "ename": "KeyboardInterrupt",
     "evalue": "",
     "output_type": "error",
     "traceback": [
      "\u001b[1;31m---------------------------------------------------------------------------\u001b[0m",
      "\u001b[1;31mKeyboardInterrupt\u001b[0m                         Traceback (most recent call last)",
      "\u001b[1;32m<ipython-input-57-1b9f6d1dc951>\u001b[0m in \u001b[0;36m<module>\u001b[1;34m\u001b[0m\n\u001b[0;32m      7\u001b[0m \u001b[1;33m\u001b[0m\u001b[0m\n\u001b[0;32m      8\u001b[0m     \u001b[1;32mfor\u001b[0m \u001b[0mi\u001b[0m \u001b[1;32min\u001b[0m \u001b[0mrange\u001b[0m\u001b[1;33m(\u001b[0m\u001b[1;36m3\u001b[0m\u001b[1;33m,\u001b[0m\u001b[0mn\u001b[0m\u001b[1;33m//\u001b[0m\u001b[1;36m2\u001b[0m \u001b[1;33m+\u001b[0m\u001b[1;36m1\u001b[0m\u001b[1;33m,\u001b[0m\u001b[1;36m2\u001b[0m\u001b[1;33m)\u001b[0m\u001b[1;33m:\u001b[0m\u001b[1;33m\u001b[0m\u001b[1;33m\u001b[0m\u001b[0m\n\u001b[1;32m----> 9\u001b[1;33m         \u001b[1;32mif\u001b[0m \u001b[1;32mnot\u001b[0m\u001b[1;33m(\u001b[0m\u001b[0mn\u001b[0m \u001b[1;33m%\u001b[0m \u001b[0mi\u001b[0m\u001b[1;33m)\u001b[0m \u001b[1;33m:\u001b[0m\u001b[1;33m\u001b[0m\u001b[1;33m\u001b[0m\u001b[0m\n\u001b[0m\u001b[0;32m     10\u001b[0m             \u001b[0ml_p_f\u001b[0m \u001b[1;33m=\u001b[0m \u001b[0mi\u001b[0m\u001b[1;33m\u001b[0m\u001b[1;33m\u001b[0m\u001b[0m\n\u001b[0;32m     11\u001b[0m \u001b[1;33m\u001b[0m\u001b[0m\n",
      "\u001b[1;31mKeyboardInterrupt\u001b[0m: "
     ]
    }
   ],
   "source": [
    "t = int(input().strip())\n",
    "for a0 in range(t):\n",
    "    n = int(input().strip())\n",
    "    l_p_f = 0\n",
    "    if not(n & 1):\n",
    "        l_p_f = 2\n",
    "    \n",
    "    for i in range(3,n//2 +1,2):\n",
    "        if not(n % i) :\n",
    "            l_p_f = i\n",
    "            \n",
    "    if l_p_f == 0:\n",
    "        print(n)\n",
    "    else:\n",
    "        print(l_p_f)"
   ]
  },
  {
   "cell_type": "markdown",
   "metadata": {},
   "source": [
    "### Final submission"
   ]
  },
  {
   "cell_type": "code",
   "execution_count": 62,
   "metadata": {},
   "outputs": [
    {
     "name": "stdout",
     "output_type": "stream",
     "text": [
      "10\n",
      "60\n",
      "Largest Prime =  2  N = 30\n",
      "Largest Prime =  2  N = 15\n",
      "Largest Prime =  3  N = 5\n",
      "5\n",
      "63\n",
      "Largest Prime =  3  N = 21\n",
      "Largest Prime =  3  N = 7\n",
      "7\n",
      "51\n",
      "Largest Prime =  3  N = 17\n",
      "17\n",
      "78\n",
      "Largest Prime =  2  N = 39\n",
      "Largest Prime =  3  N = 13\n",
      "13\n",
      "89\n",
      "89\n",
      "99\n",
      "Largest Prime =  3  N = 33\n",
      "Largest Prime =  3  N = 11\n",
      "11\n",
      "101\n",
      "101\n",
      "103\n",
      "103\n",
      "102\n",
      "Largest Prime =  2  N = 51\n",
      "Largest Prime =  3  N = 17\n",
      "17\n",
      "51\n",
      "Largest Prime =  3  N = 17\n",
      "17\n"
     ]
    }
   ],
   "source": [
    "T = int(input())\n",
    "for z in range(T):\n",
    "    N = int(input())\n",
    "    i = 2\n",
    "    largest_prime = 2\n",
    "    while i*i <= N:\n",
    "        while N % i == 0:\n",
    "            largest_prime = i\n",
    "            N //= i    \n",
    "            #print(\"Largest Prime = \",largest_prime, \" N =\", N)\n",
    "        i += 1\n",
    "    if N>largest_prime:\n",
    "        largest_prime = N;\n",
    "    print(largest_prime)"
   ]
  },
  {
   "cell_type": "markdown",
   "metadata": {},
   "source": [
    "## "
   ]
  }
 ],
 "metadata": {
  "kernelspec": {
   "display_name": "Python 3",
   "language": "python",
   "name": "python3"
  },
  "language_info": {
   "codemirror_mode": {
    "name": "ipython",
    "version": 3
   },
   "file_extension": ".py",
   "mimetype": "text/x-python",
   "name": "python",
   "nbconvert_exporter": "python",
   "pygments_lexer": "ipython3",
   "version": "3.8.5"
  }
 },
 "nbformat": 4,
 "nbformat_minor": 4
}
